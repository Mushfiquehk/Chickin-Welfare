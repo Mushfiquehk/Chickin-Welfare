{
 "cells": [
  {
   "cell_type": "code",
   "execution_count": 1,
   "id": "46704516",
   "metadata": {},
   "outputs": [],
   "source": [
    "from pathlib import Path"
   ]
  },
  {
   "cell_type": "code",
   "execution_count": 2,
   "id": "2496ae5d",
   "metadata": {},
   "outputs": [],
   "source": [
    "import librosa\n",
    "import numpy as np\n",
    "import pandas as pd\n",
    "import matplotlib.pyplot as plt"
   ]
  },
  {
   "cell_type": "code",
   "execution_count": 3,
   "id": "dbe08458",
   "metadata": {},
   "outputs": [],
   "source": [
    "import torch\n",
    "from torch import optim\n",
    "import torch.nn as nn\n",
    "from torchvision.transforms import transforms\n",
    "from torch.utils.data import Dataset, DataLoader"
   ]
  },
  {
   "cell_type": "markdown",
   "id": "3d874f84",
   "metadata": {},
   "source": [
    "### Parameters"
   ]
  },
  {
   "cell_type": "code",
   "execution_count": 4,
   "id": "b5d77d25",
   "metadata": {},
   "outputs": [],
   "source": [
    "melspec_params = {\n",
    "    \"sr\": 44100,\n",
    "    \"n_mels\": 128,\n",
    "    \"n_fft\": 512,\n",
    "    \"hop_length\": 345,\n",
    "}"
   ]
  },
  {
   "cell_type": "code",
   "execution_count": 5,
   "id": "638764e8",
   "metadata": {},
   "outputs": [],
   "source": [
    "def makeLabels(dir):\n",
    "    \"\"\" GENERATE SPECTROGRAMS AND LABELS OF 1 SEC SAMPLES \"\"\"\n",
    "    p = Path(dir)\n",
    "\n",
    "    sample_audio = []\n",
    "    for filename in p.iterdir():\n",
    "        waveform, _ = librosa.load(filename,\n",
    "                                   sr=44100)\n",
    "        mel_spec = librosa.feature.melspectrogram(waveform,\n",
    "                                                  **melspec_params)\n",
    "        mel_spec = np.array(mel_spec)\n",
    "        # resize spectrogram here to have same size tensors\n",
    "        resized_melspec = np.resize(mel_spec, (128,128))\n",
    "        spec = resized_melspec.reshape((1, resized_melspec.shape[0], resized_melspec.shape[1]))\n",
    "        sample_audio.append(spec)\n",
    "\n",
    "    sample_labels = []\n",
    "    sample_names = [str(x)[5:-4] for x in p.iterdir() if p.is_dir()]\n",
    "    for name in sample_names:\n",
    "        if name[0] == 'h':\n",
    "            sample_labels.append(0)\n",
    "        else:\n",
    "            sample_labels.append(1)\n",
    "            \n",
    "    return sample_audio, sample_labels\n",
    "    "
   ]
  },
  {
   "cell_type": "code",
   "execution_count": 6,
   "id": "a8589137",
   "metadata": {},
   "outputs": [],
   "source": [
    "class ChickenDataset(Dataset):\n",
    "    \"\"\"Chicken Vocalization Dataset.\"\"\"\n",
    "    \n",
    "    def __init__(self, audio_labels, audio_samples, transform=None, target_transform=None):\n",
    "        self.audio_labels = audio_labels\n",
    "        self.audio_samples = audio_samples\n",
    "        self.transform = transform\n",
    "        self.target_transform = target_transform\n",
    "\n",
    "    def __len__(self):\n",
    "        return len(self.audio_labels)\n",
    "\n",
    "    def __getitem__(self, idx):\n",
    "        audio = self.audio_samples[idx]\n",
    "        label = self.audio_labels[idx]\n",
    "        if self.transform:\n",
    "            audio = self.transform(audio)\n",
    "        if self.target_transform:\n",
    "            label = self.target_transform(audio)\n",
    "        return audio, label"
   ]
  },
  {
   "cell_type": "code",
   "execution_count": 7,
   "id": "12aade06",
   "metadata": {},
   "outputs": [
    {
     "name": "stderr",
     "output_type": "stream",
     "text": [
      "C:\\Users\\Mushfique Hasan Khan\\.conda\\envs\\chckn\\lib\\site-packages\\librosa\\filters.py:238: UserWarning: Empty filters detected in mel frequency basis. Some channels will produce empty responses. Try increasing your sampling rate (and fmax) or reducing n_mels.\n",
      "  warnings.warn(\n"
     ]
    }
   ],
   "source": [
    "filename='./data/'\n",
    "\n",
    "specs, labels = makeLabels(filename)\n",
    "\n",
    "chicken_dataset = ChickenDataset(audio_labels=labels, \n",
    "                                 audio_samples=specs)"
   ]
  },
  {
   "cell_type": "code",
   "execution_count": 8,
   "id": "1a7cff1b",
   "metadata": {},
   "outputs": [],
   "source": [
    "split_size = 0.8\n",
    "train_size = int(split_size * len(chicken_dataset))\n",
    "test_size = len(chicken_dataset) - train_size\n",
    "train_dataset, test_dataset = torch.utils.data.random_split(chicken_dataset, [train_size, test_size])"
   ]
  },
  {
   "cell_type": "code",
   "execution_count": 9,
   "id": "ed1030a4",
   "metadata": {},
   "outputs": [
    {
     "data": {
      "text/plain": [
       "1875"
      ]
     },
     "execution_count": 9,
     "metadata": {},
     "output_type": "execute_result"
    }
   ],
   "source": [
    "len(test_dataset)"
   ]
  },
  {
   "cell_type": "markdown",
   "id": "fcbfea37",
   "metadata": {},
   "source": [
    "### Dataloader"
   ]
  },
  {
   "cell_type": "code",
   "execution_count": 10,
   "id": "e2c8699f",
   "metadata": {},
   "outputs": [],
   "source": [
    "train_dataloader = DataLoader(train_dataset, batch_size=64, shuffle=True)\n",
    "test_dataloader = DataLoader(test_dataset, batch_size=64, shuffle=True)"
   ]
  },
  {
   "cell_type": "markdown",
   "id": "2bedf9f3",
   "metadata": {},
   "source": [
    "## Defining the model"
   ]
  },
  {
   "cell_type": "code",
   "execution_count": 11,
   "id": "77a924bb",
   "metadata": {},
   "outputs": [],
   "source": [
    "class CNN(nn.Module):\n",
    "    def __init__(self):\n",
    "        super(CNN, self).__init__()        \n",
    "        self.conv1 = nn.Sequential(nn.Conv2d(in_channels=1,\n",
    "                                             out_channels=16,\n",
    "                                             kernel_size=(5,5),\n",
    "                                             stride=(1,1),\n",
    "                                             padding=(2,2),\n",
    "                                            ),\n",
    "                                   nn.ReLU(),\n",
    "                                   nn.MaxPool2d(2),)\n",
    "        self.conv2 = nn.Sequential(nn.Conv2d(in_channels=16,\n",
    "                                             out_channels=32,\n",
    "                                             kernel_size=(5,5),\n",
    "                                             stride=(1,1),\n",
    "                                             padding=(2,2),), \n",
    "                                   nn.ReLU(),\n",
    "                                   nn.MaxPool2d(2),)        \n",
    "        # fully connected layer, output 2 classes\n",
    "        self.out = nn.Linear(32 * 32 * 32, 2)        \n",
    "    def forward(self,x):\n",
    "        x = self.conv1(x)\n",
    "        x = self.conv2(x)        \n",
    "        # flatten the output of conv2 to (batch_size, 32 * 32 * 32)\n",
    "        x = x.view(x.size(0), -1)\n",
    "        output = self.out(x)\n",
    "        return output, x"
   ]
  },
  {
   "cell_type": "code",
   "execution_count": 12,
   "id": "184ff495",
   "metadata": {},
   "outputs": [],
   "source": [
    "cnn = CNN()\n",
    "loss_func = nn.CrossEntropyLoss()\n",
    "optimizer = optim.Adam(cnn.parameters(), lr=0.01)\n",
    "# print(cnn)\n",
    "# loss_func"
   ]
  },
  {
   "cell_type": "markdown",
   "id": "967f771b",
   "metadata": {},
   "source": [
    "### Define Loss Function"
   ]
  },
  {
   "cell_type": "markdown",
   "id": "71b1d591",
   "metadata": {},
   "source": [
    "## TRAINING"
   ]
  },
  {
   "cell_type": "code",
   "execution_count": 17,
   "id": "a5731ba9",
   "metadata": {},
   "outputs": [
    {
     "name": "stdout",
     "output_type": "stream",
     "text": [
      "Epoch [1/10], Step [59/118], Loss: 0.0000\n",
      "Epoch [1/10], Step [118/118], Loss: 0.0000\n",
      "Epoch [2/10], Step [59/118], Loss: 0.0000\n",
      "Epoch [2/10], Step [118/118], Loss: 0.0000\n",
      "Epoch [3/10], Step [59/118], Loss: 0.0000\n",
      "Epoch [3/10], Step [118/118], Loss: 0.0000\n",
      "Epoch [4/10], Step [59/118], Loss: 0.0000\n",
      "Epoch [4/10], Step [118/118], Loss: 0.0000\n",
      "Epoch [5/10], Step [59/118], Loss: 0.0000\n",
      "Epoch [5/10], Step [118/118], Loss: 0.0000\n",
      "Epoch [6/10], Step [59/118], Loss: 0.0000\n",
      "Epoch [6/10], Step [118/118], Loss: 0.0000\n",
      "Epoch [7/10], Step [59/118], Loss: 0.0000\n",
      "Epoch [7/10], Step [118/118], Loss: 0.0000\n",
      "Epoch [8/10], Step [59/118], Loss: 0.0000\n",
      "Epoch [8/10], Step [118/118], Loss: 0.0000\n",
      "Epoch [9/10], Step [59/118], Loss: 0.0000\n",
      "Epoch [9/10], Step [118/118], Loss: 0.0000\n",
      "Epoch [10/10], Step [59/118], Loss: 0.0000\n",
      "Epoch [10/10], Step [118/118], Loss: 0.0000\n"
     ]
    }
   ],
   "source": [
    "from torch.autograd import Variable\n",
    "\n",
    "num_epochs = 10\n",
    "def train(num_epochs, cnn, loaders):\n",
    "    cnn.train()    \n",
    "    #Train the model\n",
    "    total_step = len(loaders)    \n",
    "    for epoch in range(num_epochs):\n",
    "        for i, (images, labels) in enumerate(loaders):\n",
    "            b_x = Variable(images)\n",
    "            b_y = Variable(labels)            \n",
    "            output = cnn(b_x)[0]\n",
    "            loss = loss_func(output, b_y)\n",
    "            # clear gradients \n",
    "            optimizer.zero_grad()            \n",
    "            # backpropagation, conmpute gradients\n",
    "            loss.backward()            \n",
    "            # apply gradients\n",
    "            optimizer.step()            \n",
    "            if (i+1) % 59 == 0:\n",
    "                print('Epoch [{}/{}], Step [{}/{}], Loss: {:.4f}'.format(epoch+1, num_epochs, i+1, total_step, loss.item()))\n",
    "                pass\n",
    "            pass\n",
    "        pass\n",
    "train(num_epochs, cnn, train_dataloader)            "
   ]
  },
  {
   "cell_type": "code",
   "execution_count": 18,
   "id": "e17d0519",
   "metadata": {},
   "outputs": [
    {
     "name": "stdout",
     "output_type": "stream",
     "text": [
      "Test Accuracy of the model on the 7552 test images: 1.00\n"
     ]
    }
   ],
   "source": [
    "def test():\n",
    "    # Test the model\n",
    "    cnn.eval()\n",
    "    \n",
    "    with torch.no_grad():\n",
    "        correct = 0\n",
    "        total = 0\n",
    "        for images, labels in test_dataloader:\n",
    "            test_output, last_layer = cnn(images)\n",
    "            pred_y = torch.max(test_output, 1)[1].data.squeeze()\n",
    "            accuracy = (pred_y == labels).sum().item()/ float(labels.size(0))\n",
    "            pass\n",
    "    print('Test Accuracy of the model on the 7552 test images: %.2f' % accuracy)\n",
    "    pass\n",
    "test()"
   ]
  },
  {
   "cell_type": "code",
   "execution_count": 19,
   "id": "f0358f42",
   "metadata": {},
   "outputs": [
    {
     "name": "stdout",
     "output_type": "stream",
     "text": [
      "Prediction number: [0 1 0 1 0 1 0 0 0 0]\n",
      "Actual number: [0 1 0 1 0 1 0 0 0 0]\n"
     ]
    }
   ],
   "source": [
    "sample = next(iter(test_dataloader))\n",
    "imgs, lbls = sample\n",
    "actual_number = lbls[:10].numpy()\n",
    "test_output, last_layer = cnn(imgs[:10])\n",
    "pred_y = torch.max(test_output, 1)[1].data.numpy().squeeze()\n",
    "print(f'Prediction number: {pred_y}')\n",
    "print(f'Actual number: {actual_number}')"
   ]
  },
  {
   "cell_type": "code",
   "execution_count": null,
   "id": "e0ef1782",
   "metadata": {},
   "outputs": [],
   "source": []
  }
 ],
 "metadata": {
  "kernelspec": {
   "display_name": "Python 3 (ipykernel)",
   "language": "python",
   "name": "python3"
  },
  "language_info": {
   "codemirror_mode": {
    "name": "ipython",
    "version": 3
   },
   "file_extension": ".py",
   "mimetype": "text/x-python",
   "name": "python",
   "nbconvert_exporter": "python",
   "pygments_lexer": "ipython3",
   "version": "3.9.7"
  }
 },
 "nbformat": 4,
 "nbformat_minor": 5
}
